{
 "cells": [
  {
   "cell_type": "code",
   "execution_count": 1,
   "id": "2a5c976a",
   "metadata": {},
   "outputs": [
    {
     "name": "stdout",
     "output_type": "stream",
     "text": [
      "\n"
     ]
    },
    {
     "name": "stderr",
     "output_type": "stream",
     "text": [
      "[WDM] - ====== WebDriver manager ======\n",
      "[WDM] - Current google-chrome version is 103.0.5060\n",
      "[WDM] - Get LATEST chromedriver version for 103.0.5060 google-chrome\n",
      "[WDM] - Driver [C:\\Users\\Ghost\\.wdm\\drivers\\chromedriver\\win32\\103.0.5060.53\\chromedriver.exe] found in cache\n",
      "C:\\Users\\Ghost\\AppData\\Local\\Temp\\ipykernel_648\\3451254926.py:9: DeprecationWarning: executable_path has been deprecated, please pass in a Service object\n",
      "  driver = webdriver.Chrome(ChromeDriverManager().install())\n"
     ]
    },
    {
     "name": "stdout",
     "output_type": "stream",
     "text": [
      "BHP $40.000 7,540,059 8.65 $5.59 10.67%\n",
      "RIO $100.780 742,654 5.30 $3.62 14.11%\n",
      "FMG $17.320 5,374,953 3.99 $3.44 17.14%\n",
      "MIN $45.510 893,111 11.26 $8.01 3.84%\n",
      "HIO $0.475 944,342 -- -- 0.00%\n",
      "MGT $0.022 2,077,712 -- -- 0.00%\n",
      "WHC $4.830 3,225,964 -- $35.48 1.65%\n",
      "VMS $0.032 414,442 -- -- 0.00%\n",
      "CIA $5.200 1,831,849 4.59 $4.07 4.22%\n",
      "WPL -- -- -- -- --\n",
      "ANZ $22.200 5,349,795 9.91 $7.98 6.48%\n",
      "CBA $91.230 1,908,049 17.07 $14.06 4.11%\n",
      "WBC $19.670 6,092,477 14.34 $10.31 6.15%\n",
      "NAB $27.650 4,785,897 13.85 $11.22 5.06%\n",
      "MQG $168.680 546,291 13.61 $10.98 3.68%\n",
      "BEN $9.270 834,973 9.66 $7.44 5.71%\n",
      "BOQ $6.830 1,560,822 10.86 $8.55 6.44%\n",
      "CHN $3.770 962,559 -- -- 0.00%\n",
      "OZL $17.450 1,737,221 11.01 $7.15 1.94%\n",
      "MZZ $0.150 271,715 -- -- 0.00%\n",
      "RDS $0.008 500,749 -- -- 0.00%\n",
      "AGL $8.350 1,595,711 6.78 $3.88 5.98%\n",
      "ORG $5.760 3,734,125 -- -- 3.47%\n",
      "MEZ $4.220 43,715 34.81 $18.90 3.72%\n",
      "STO $7.480 7,933,133 16.35 $8.99 2.60%\n",
      "QAN $4.490 5,992,824 -- $11.62 0.00%\n",
      "BPT $1.750 4,510,745 9.90 $4.87 1.14%\n",
      "WOR $14.180 1,121,892 51.97 $17.29 3.52%\n",
      "NEW $0.845 281,601 -- -- 9.34%\n",
      "GNX $0.135 1,507,641 -- -- 0.00%\n",
      "OSH -- -- -- -- --\n",
      "NCM $20.990 2,611,319 12.73 $8.11 3.12%\n",
      "SLR $1.335 4,129,965 14.95 $4.64 0.00%\n",
      "EVN $2.510 12,966,137 20.78 $7.11 3.18%\n",
      "SVL $0.150 846,946 -- -- 0.00%\n",
      "PDI $0.195 1,511,356 -- -- 0.00%\n",
      "TMZ $0.021 2,260,125 -- -- 0.00%\n",
      "MZZ $0.150 271,715 -- -- 0.00%\n",
      "SYR $1.245 611,989 -- -- 0.00%\n",
      "CXO $0.950 10,470,954 -- -- 0.00%\n",
      "AZL $0.091 15,013,044 -- -- 0.00%\n",
      "MNS $0.315 1,658,650 -- -- 0.00%\n",
      "MZZ $0.150 271,715 -- -- 0.00%\n",
      "PLS $2.260 8,624,347 78.55 $59.22 0.00%\n",
      "EUR $0.062 2,119,067 -- -- 0.00%\n",
      "SYA $0.165 45,357,880 11.49 $13.65 0.00%\n",
      "LKE $0.760 14,067,723 -- -- 0.00%\n",
      "WSA -- -- -- -- --\n",
      "ADD $0.024 1,060,000 -- -- 0.00%\n",
      "VMS $0.032 414,442 -- -- 0.00%\n"
     ]
    }
   ],
   "source": [
    "from selenium import webdriver\n",
    "from selenium.webdriver.common.by import By\n",
    "from selenium.webdriver.support.ui import WebDriverWait\n",
    "from selenium.webdriver.support import expected_conditions as EC\n",
    "from webdriver_manager.chrome import ChromeDriverManager\n",
    "from selenium.webdriver.common.keys import Keys\n",
    "import time, xlsxwriter\n",
    "\n",
    "driver = webdriver.Chrome(ChromeDriverManager().install())\n",
    "\n",
    "lst = ['BHP', 'RIO', 'FMG', 'MIN', 'HIO', 'MGT', 'WHC', 'VMS', 'CIA', 'WPL', 'ANZ', 'CBA', 'WBC', 'NAB', 'MQG', 'BEN', 'BOQ', 'CHN', 'OZL', 'MZZ', 'RDS', 'AGL', 'ORG', 'MEZ', 'STO', 'QAN', 'BPT', 'WOR', 'NEW', 'GNX', 'OSH', 'NCM', 'SLR', 'EVN', 'SVL', 'PDI', 'TMZ', 'MZZ', 'SYR', 'CXO', 'AZL', 'MNS', 'MZZ', 'PLS', 'EUR', 'SYA', 'LKE', 'WSA', 'ADD', 'VMS']\n",
    "data = [['COMPANY', 'PRICE', \"VOLUME\", 'P/E RATIO', 'PRICE/FREE CASH FLOW', 'ANNUAL YIELD']]\n",
    "for i in lst:\n",
    "    \n",
    "    driver.get(\"https://www2.asx.com.au/markets/company/\"+f'{i}')\n",
    "    \n",
    "    time.sleep(5)\n",
    "    price = WebDriverWait(driver, 5).until(EC.presence_of_element_located((By.XPATH, \"//*[contains(text(), 'Last Price')]/../*[2]\"))).text.split(' ')[0]\n",
    "    volume = WebDriverWait(driver, 5).until(EC.presence_of_element_located((By.XPATH, \"//*[@id='company_header']/div/div[1]/div/div[2]/dl[2]/dd\"))).text\n",
    "    pe = WebDriverWait(driver, 5).until(EC.presence_of_element_located((By.XPATH, \"//*[contains(text(), 'P/E ratio')]/../*[2]\"))).text\n",
    "    pf = WebDriverWait(driver, 5).until(EC.presence_of_element_located((By.XPATH, \"//*[contains(text(), 'Price/free cash flow')]/../*[2]\"))).text\n",
    "    an_yield = WebDriverWait(driver, 5).until(EC.presence_of_element_located((By.XPATH, \"//*[contains(text(), 'Annual yield')]/../*[2]\"))).text\n",
    "    \n",
    "    print(i, price, volume, pe, pf, an_yield)\n",
    "    data.append([i, price, volume, pe, pf, an_yield])\n",
    "    \n",
    "with xlsxwriter.Workbook('test.xlsx') as workbook:\n",
    "    worksheet = workbook.add_worksheet()\n",
    "\n",
    "    for row_num, data in enumerate(data):\n",
    "        worksheet.write_row(row_num, 0, data)"
   ]
  },
  {
   "cell_type": "code",
   "execution_count": null,
   "id": "6eb10ab6",
   "metadata": {},
   "outputs": [],
   "source": []
  }
 ],
 "metadata": {
  "kernelspec": {
   "display_name": "Python 3 (ipykernel)",
   "language": "python",
   "name": "python3"
  },
  "language_info": {
   "codemirror_mode": {
    "name": "ipython",
    "version": 3
   },
   "file_extension": ".py",
   "mimetype": "text/x-python",
   "name": "python",
   "nbconvert_exporter": "python",
   "pygments_lexer": "ipython3",
   "version": "3.9.12"
  }
 },
 "nbformat": 4,
 "nbformat_minor": 5
}
